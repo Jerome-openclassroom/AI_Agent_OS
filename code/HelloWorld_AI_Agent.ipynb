{
 "cells": [
  {
   "cell_type": "code",
   "execution_count": 19,
   "id": "1678181c-e6a0-4d8f-8597-2b5743578bc1",
   "metadata": {},
   "outputs": [],
   "source": [
    "from dotenv import load_dotenv\n",
    "import os, re\n",
    "from openai import OpenAI\n",
    "import xml.etree.ElementTree as ET\n",
    "from pathlib import Path\n",
    "import gradio as gr"
   ]
  },
  {
   "cell_type": "code",
   "execution_count": null,
   "id": "8d51448a-521a-4850-96c7-7c62fd0e1c19",
   "metadata": {},
   "outputs": [],
   "source": []
  },
  {
   "cell_type": "code",
   "execution_count": 20,
   "id": "0973f70e-8ff4-48c8-8158-3d91a4d0a956",
   "metadata": {},
   "outputs": [
    {
     "data": {
      "text/plain": [
       "True"
      ]
     },
     "execution_count": 20,
     "metadata": {},
     "output_type": "execute_result"
    }
   ],
   "source": [
    "\n",
    "load_dotenv(dotenv_path=\"ENV/env.txt\")"
   ]
  },
  {
   "cell_type": "code",
   "execution_count": 21,
   "id": "afa638f5-6cc7-448d-8b09-4f7b80255e7c",
   "metadata": {},
   "outputs": [],
   "source": [
    "\n",
    "\n",
    "# Chargement clé API\n",
    "if not load_dotenv(dotenv_path=\"ENV/env.txt\"):\n",
    "    raise RuntimeError(\"Impossible de charger ENV/env.txt\")\n",
    "api_key = os.getenv(\"OPENAI_API_KEY\")\n",
    "if not api_key:\n",
    "    raise RuntimeError(\"Clé API introuvable\")\n",
    "\n",
    "# Init OpenAI\n",
    "client = OpenAI(api_key=api_key)\n",
    "ASSISTANT_ID = \"asst_nyRF0FGHJVGlf0mUumJS4bBI\"\n",
    "\n"
   ]
  },
  {
   "cell_type": "code",
   "execution_count": 22,
   "id": "8c9115e4-1038-4dbf-8727-a7270d490800",
   "metadata": {},
   "outputs": [],
   "source": [
    "# --- Fonctions utilitaires ---\n",
    "def parse_orchestrator_block(text):\n",
    "    \"\"\"\n",
    "    Extrait le bloc <orchestrator> XML et retourne les infos utiles.\n",
    "    \"\"\"\n",
    "    match = re.search(r\"(<orchestrator[\\s\\S]*?</orchestrator>)\", text)\n",
    "    if not match:\n",
    "        return None\n",
    "\n",
    "    xml_block = match.group(1)\n",
    "    root = ET.fromstring(xml_block)\n",
    "    action = root.find(\".//action\")\n",
    "    if action is None:\n",
    "        return None\n",
    "\n",
    "    return {\n",
    "        \"action_name\": action.attrib.get(\"name\"),\n",
    "        \"path\": action.findtext(\"path\"),\n",
    "        \"content\": action.findtext(\"content\", \"\"),\n",
    "        \"make_parents\": action.findtext(\"make_parents\", \"false\").lower() == \"true\",\n",
    "        \"if_exists\": action.findtext(\"if_exists\", \"skip\").lower(),\n",
    "        \"encoding\": action.findtext(\"encoding\", \"utf-8\")\n",
    "    }\n",
    "\n",
    "def execute_create_folder(params):\n",
    "    folder_path = Path(params[\"path\"])\n",
    "    if folder_path.exists():\n",
    "        if params[\"if_exists\"] == \"skip\":\n",
    "            return f\"⏩ Dossier déjà présent : {folder_path}\"\n",
    "        elif params[\"if_exists\"] == \"error\":\n",
    "            return f\"❌ Dossier existe déjà : {folder_path}\"\n",
    "        elif params[\"if_exists\"] == \"overwrite\":\n",
    "            import shutil\n",
    "            shutil.rmtree(folder_path)\n",
    "    folder_path.mkdir(parents=params[\"make_parents\"], exist_ok=True)\n",
    "    return f\"✅ Dossier créé : {folder_path}\"\n",
    "\n",
    "def execute_create_file(params):\n",
    "    file_path = Path(params[\"path\"])\n",
    "    if file_path.exists():\n",
    "        if params[\"if_exists\"] == \"skip\":\n",
    "            return f\"⏩ Fichier déjà présent : {file_path}\"\n",
    "        elif params[\"if_exists\"] == \"error\":\n",
    "            return f\"❌ Fichier existe déjà : {file_path}\"\n",
    "    file_path.parent.mkdir(parents=True, exist_ok=True)\n",
    "    with open(file_path, \"w\", encoding=params.get(\"encoding\", \"utf-8\")) as f:\n",
    "        f.write(params.get(\"content\", \"\"))\n",
    "    return f\"✅ Fichier créé/écrit : {file_path}\"\n",
    "\n",
    "def execute_action_from_orchestrator(assistant_output):\n",
    "    \"\"\"\n",
    "    Exécute l'action détectée dans le bloc orchestrator.\n",
    "    \"\"\"\n",
    "    params = parse_orchestrator_block(assistant_output)\n",
    "    if not params:\n",
    "        return \"⚠️ Aucune action détectée.\"\n",
    "    \n",
    "    action_name = params.get(\"action_name\")\n",
    "    if action_name == \"create_folder\":\n",
    "        return execute_create_folder(params)\n",
    "    elif action_name == \"create_file\":\n",
    "        return execute_create_file(params)\n",
    "    else:\n",
    "        return f\"⚠️ Action inconnue : {action_name}\""
   ]
  },
  {
   "cell_type": "code",
   "execution_count": 27,
   "id": "7c242099-29fe-487b-832e-5359ed066730",
   "metadata": {},
   "outputs": [],
   "source": [
    "# --- Fonction Gradio ---\n",
    "def envoyer_commande(user_input):\n",
    "    # Créer un thread et envoyer le message utilisateur\n",
    "    thread = client.beta.threads.create()\n",
    "    client.beta.threads.messages.create(\n",
    "        thread_id=thread.id,\n",
    "        role=\"user\",\n",
    "        content=user_input\n",
    "    )\n",
    "\n",
    "    # Lancer le run avec l'assistant\n",
    "    run = client.beta.threads.runs.create(\n",
    "        thread_id=thread.id,\n",
    "        assistant_id=ASSISTANT_ID\n",
    "    )\n",
    "\n",
    "    # Polling jusqu'à complétion\n",
    "    import time\n",
    "    while True:\n",
    "        status = client.beta.threads.runs.retrieve(thread_id=thread.id, run_id=run.id)\n",
    "        if status.status in [\"completed\", \"failed\", \"cancelled\"]:\n",
    "            break\n",
    "        time.sleep(0.5)\n",
    "\n",
    "    # Récupérer la réponse de l'assistant\n",
    "    messages = client.beta.threads.messages.list(thread_id=thread.id)\n",
    "    assistant_output = messages.data[0].content[0].text.value\n",
    "\n",
    "    # Exécuter l'action locale\n",
    "    action_result = execute_action_from_orchestrator(assistant_output)\n",
    "\n",
    "    return assistant_output, action_result"
   ]
  },
  {
   "cell_type": "code",
   "execution_count": 28,
   "id": "99e94525-522f-41a6-b5ef-25d6b2bf94d3",
   "metadata": {},
   "outputs": [],
   "source": [
    "# --- Interface Gradio ---\n",
    "with gr.Blocks() as demo:\n",
    "    gr.Markdown(\"## 🖥️ AgentIA Orchestrateur - Commandes locales\")\n",
    "    cmd_input = gr.Textbox(label=\"Commande utilisateur\", placeholder=\"Ex: Crée un dossier Test sur le Bureau\")\n",
    "    output_assistant = gr.Textbox(label=\"Réponse Assistant\", lines=8)\n",
    "    output_action = gr.Textbox(label=\"Résultat Action\")\n",
    "\n",
    "    submit_btn = gr.Button(\"Envoyer\")\n",
    "    submit_btn.click(envoyer_commande, inputs=cmd_input, outputs=[output_assistant, output_action])"
   ]
  },
  {
   "cell_type": "code",
   "execution_count": 30,
   "id": "8320676c-834b-4035-8ec3-0992d05ca268",
   "metadata": {},
   "outputs": [
    {
     "name": "stdout",
     "output_type": "stream",
     "text": [
      "Rerunning server... use `close()` to stop if you need to change `launch()` parameters.\n",
      "----\n",
      "* Running on public URL: https://04387f57aa8ed60621.gradio.live\n",
      "\n",
      "This share link expires in 1 week. For free permanent hosting and GPU upgrades, run `gradio deploy` from the terminal in the working directory to deploy to Hugging Face Spaces (https://huggingface.co/spaces)\n"
     ]
    },
    {
     "data": {
      "text/html": [
       "<div><iframe src=\"https://04387f57aa8ed60621.gradio.live\" width=\"100%\" height=\"500\" allow=\"autoplay; camera; microphone; clipboard-read; clipboard-write;\" frameborder=\"0\" allowfullscreen></iframe></div>"
      ],
      "text/plain": [
       "<IPython.core.display.HTML object>"
      ]
     },
     "metadata": {},
     "output_type": "display_data"
    },
    {
     "data": {
      "text/plain": []
     },
     "execution_count": 30,
     "metadata": {},
     "output_type": "execute_result"
    }
   ],
   "source": [
    "demo.launch(share=True)"
   ]
  },
  {
   "cell_type": "code",
   "execution_count": 31,
   "id": "afa28dae-68fe-4acf-98f1-4a1b8b00a26a",
   "metadata": {},
   "outputs": [
    {
     "name": "stdout",
     "output_type": "stream",
     "text": [
      "Closing server running on port: 7877\n"
     ]
    }
   ],
   "source": [
    "demo.close()"
   ]
  },
  {
   "cell_type": "code",
   "execution_count": null,
   "id": "93a3f649-59cd-4b39-a33f-21a024bcb550",
   "metadata": {},
   "outputs": [],
   "source": []
  }
 ],
 "metadata": {
  "kernelspec": {
   "display_name": "Python 3 (ipykernel)",
   "language": "python",
   "name": "python3"
  },
  "language_info": {
   "codemirror_mode": {
    "name": "ipython",
    "version": 3
   },
   "file_extension": ".py",
   "mimetype": "text/x-python",
   "name": "python",
   "nbconvert_exporter": "python",
   "pygments_lexer": "ipython3",
   "version": "3.12.7"
  }
 },
 "nbformat": 4,
 "nbformat_minor": 5
}
