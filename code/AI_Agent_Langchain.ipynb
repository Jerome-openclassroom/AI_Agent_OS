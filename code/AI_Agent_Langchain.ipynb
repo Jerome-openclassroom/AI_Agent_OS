{
 "cells": [
  {
   "cell_type": "code",
   "execution_count": 1,
   "id": "22d986d7-5f1b-4ad6-8ab4-797d18161e27",
   "metadata": {},
   "outputs": [],
   "source": [
    "# Installation & imports\n",
    "# (À exécuter une seule fois si besoin)\n",
    "# !pip install langchain-openai langchain gradio python-dotenv\n",
    "\n",
    "from dotenv import load_dotenv\n",
    "import os, re, shutil\n",
    "from pathlib import Path\n",
    "import xml.etree.ElementTree as ET\n",
    "\n",
    "from langchain_openai import ChatOpenAI\n",
    "from langchain.prompts import ChatPromptTemplate\n",
    "from langchain.schema import SystemMessage, HumanMessage\n"
   ]
  },
  {
   "cell_type": "code",
   "execution_count": 2,
   "id": "f75d2863-a43a-4b0a-8c5f-275e070a4036",
   "metadata": {},
   "outputs": [],
   "source": [
    "# Charge la clé API depuis ENV/env.txt (format: OPENAI_API_KEY=sk-...)\n",
    "if not load_dotenv(dotenv_path=\"ENV/env.txt\"):\n",
    "    raise RuntimeError(\"Impossible de charger ENV/env.txt\")\n",
    "\n",
    "api_key = os.getenv(\"OPENAI_API_KEY\")\n",
    "if not api_key:\n",
    "    raise RuntimeError(\"Clé API introuvable\")\n",
    "\n",
    "# Modèle (tu peux passer à gpt-4o-mini pour réduire le coût)\n",
    "llm = ChatOpenAI(model=\"gpt-4o\", temperature=0, api_key=api_key)\n"
   ]
  },
  {
   "cell_type": "code",
   "execution_count": 3,
   "id": "88a5c5a7-5a30-4253-89f9-93d2d1227102",
   "metadata": {},
   "outputs": [],
   "source": [
    "# Prompt système durci (create_folder + create_file)\n",
    "system_prompt = \"\"\"\n",
    "Tu es un ORCHESTRATEUR IA. Tu reçois une commande en français et tu produis **UNIQUE BLOc** XML strict, parsable par une machine.\n",
    "N'écris **rien d'autre avant** ni **dans** ce bloc. Après le bloc, tu peux ajouter une courte phrase pour l'utilisateur.\n",
    "\n",
    "Chemin de base par défaut si relatif : C:\\\\Users\\\\jerom\\\\OneDrive\\\\Bureau\n",
    "\n",
    "Actions supportées:\n",
    "- create_folder\n",
    "  Champs: path (absolu), make_parents(true/false, def=true), if_exists(skip|error|overwrite, def=skip)\n",
    "- create_file\n",
    "  Champs: path (absolu, inclut le nom de fichier), content (texte), if_exists(skip|error|overwrite, def=overwrite), encoding(utf-8 par défaut)\n",
    "\n",
    "Règles de sécurité:\n",
    "- Interdire `..`, noms réservés (CON, PRN, AUX, NUL, COM1..9, LPT1..9)\n",
    "- Remplacer caractères Windows interdits dans segments: <>:\"/\\\\|?*\n",
    "- Ne jamais ajouter de slash final, conserver l’héritage NTFS implicite\n",
    "- Si chemin non absolu: préfixer avec le chemin de base\n",
    "\n",
    "FORMAT OBLIGATOIRE (un seul bloc):\n",
    "<orchestrator version=\"1.0\">\n",
    "  <action name=\"create_folder|create_file\">\n",
    "    <path>CHEMIN_WINDOWS_ABSOLU</path>\n",
    "    <make_parents>true|false</make_parents>\n",
    "    <if_exists>skip|error|overwrite</if_exists>\n",
    "    <content>OPTIONNEL pour create_file</content>\n",
    "    <encoding>utf-8</encoding>\n",
    "    <correlation_id>UUID-ou-hash</correlation_id>\n",
    "    <notes>Brèves notes techniques</notes>\n",
    "  </action>\n",
    "</orchestrator>\n",
    "\n",
    "Exemple:\n",
    "User: Crée un dossier Projets Lyra 2025\\\\Rapports sur le Bureau\n",
    "Output:\n",
    "<orchestrator version=\"1.0\">\n",
    "  <action name=\"create_folder\">\n",
    "    <path>C:\\\\Users\\\\jerom\\\\OneDrive\\\\Bureau\\\\Projets Lyra 2025\\\\Rapports</path>\n",
    "    <make_parents>true</make_parents>\n",
    "    <if_exists>skip</if_exists>\n",
    "    <encoding>utf-8</encoding>\n",
    "    <correlation_id>...</correlation_id>\n",
    "    <notes>OK parents</notes>\n",
    "  </action>\n",
    "</orchestrator>\n",
    "\"\"\"\n"
   ]
  },
  {
   "cell_type": "code",
   "execution_count": 4,
   "id": "5d6fb3c7-5155-466b-a541-4bfecb5b8cbc",
   "metadata": {},
   "outputs": [],
   "source": [
    "# Utilitaires: parse XML & exécution des actions\n",
    "def parse_orchestrator_block(text: str):\n",
    "    \"\"\"\n",
    "    Extrait le bloc <orchestrator> et retourne un dict paramètres.\n",
    "    Renvoie None si pas de bloc valide.\n",
    "    \"\"\"\n",
    "    match = re.search(r\"(<orchestrator[\\s\\S]*?</orchestrator>)\", text)\n",
    "    if not match:\n",
    "        return None\n",
    "    xml_block = match.group(1)\n",
    "\n",
    "    root = ET.fromstring(xml_block)\n",
    "    action = root.find(\".//action\")\n",
    "    if action is None:\n",
    "        return None\n",
    "\n",
    "    return {\n",
    "        \"action_name\": action.attrib.get(\"name\", \"\").strip(),\n",
    "        \"path\": (action.findtext(\"path\") or \"\").strip(),\n",
    "        \"make_parents\": (action.findtext(\"make_parents\", \"true\").lower() == \"true\"),\n",
    "        \"if_exists\": (action.findtext(\"if_exists\", \"skip\").lower()),\n",
    "        \"content\": action.findtext(\"content\", \"\"),\n",
    "        \"encoding\": action.findtext(\"encoding\", \"utf-8\"),\n",
    "        \"xml\": xml_block,  # utile pour log\n",
    "    }\n",
    "\n",
    "def execute_create_folder(params: dict) -> str:\n",
    "    p = Path(params[\"path\"])\n",
    "    if p.exists():\n",
    "        if params[\"if_exists\"] == \"skip\":\n",
    "            return f\"⏩ Dossier déjà présent : {p}\"\n",
    "        if params[\"if_exists\"] == \"error\":\n",
    "            return f\"❌ Dossier existe déjà : {p}\"\n",
    "        if params[\"if_exists\"] == \"overwrite\":\n",
    "            shutil.rmtree(p)\n",
    "    p.mkdir(parents=params[\"make_parents\"], exist_ok=True)\n",
    "    return f\"✅ Dossier créé : {p}\"\n",
    "\n",
    "def execute_create_file(params: dict) -> str:\n",
    "    p = Path(params[\"path\"])\n",
    "    if p.exists():\n",
    "        if params[\"if_exists\"] == \"skip\":\n",
    "            return f\"⏩ Fichier déjà présent : {p}\"\n",
    "        if params[\"if_exists\"] == \"error\":\n",
    "            return f\"❌ Fichier existe déjà : {p}\"\n",
    "        # overwrite → on continue\n",
    "    p.parent.mkdir(parents=True, exist_ok=True)\n",
    "    with open(p, \"w\", encoding=params.get(\"encoding\", \"utf-8\")) as f:\n",
    "        f.write(params.get(\"content\", \"\"))\n",
    "    return f\"✅ Fichier créé/écrit : {p}\"\n",
    "\n",
    "def execute_from_xml_response(assistant_text: str) -> str:\n",
    "    \"\"\"\n",
    "    Route l'exécution selon l'action détectée dans le XML.\n",
    "    \"\"\"\n",
    "    params = parse_orchestrator_block(assistant_text)\n",
    "    if not params:\n",
    "        return \"⚠️ Aucune action détectée dans la réponse.\"\n",
    "    action = params.get(\"action_name\")\n",
    "    if action == \"create_folder\":\n",
    "        return execute_create_folder(params)\n",
    "    if action == \"create_file\":\n",
    "        return execute_create_file(params)\n",
    "    return f\"⚠️ Action inconnue: {action}\"\n"
   ]
  },
  {
   "cell_type": "code",
   "execution_count": 5,
   "id": "5ca972c2-6e14-4e09-a3a1-153ad95d597d",
   "metadata": {},
   "outputs": [],
   "source": [
    "# ChatPromptTemplate: on injecte système + message utilisateur\n",
    "# Chaîne LangChain (Système + Humain → LLM)\n",
    "def run_agent_command(user_command: str):\n",
    "    messages = [\n",
    "        SystemMessage(content=system_prompt),\n",
    "        HumanMessage(content=user_command)\n",
    "    ]\n",
    "    resp = llm.invoke(messages)\n",
    "    return resp.content  # texte complet (XML + éventuel message humain après)\n"
   ]
  },
  {
   "cell_type": "code",
   "execution_count": 6,
   "id": "345dbb8b-5c1f-47ff-9ff0-e18ff5ebac14",
   "metadata": {},
   "outputs": [
    {
     "name": "stdout",
     "output_type": "stream",
     "text": [
      "<orchestrator version=\"1.0\">\n",
      "  <action name=\"create_folder\">\n",
      "    <path>C:\\Users\\jerom\\OneDrive\\Bureau\\Demo LangChain\\Essais</path>\n",
      "    <make_parents>true</make_parents>\n",
      "    <if_exists>skip</if_exists>\n",
      "    <encoding>utf-8</encoding>\n",
      "    <correlation_id>123e4567-e89b-12d3-a456-426614174000</correlation_id>\n",
      "    <notes>OK parents</notes>\n",
      "  </action>\n",
      "</orchestrator>\n",
      "\n",
      "Le dossier 'Demo LangChain\\Essais' sera créé sur le Bureau.\n",
      "✅ Dossier créé : C:\\Users\\jerom\\OneDrive\\Bureau\\Demo LangChain\\Essais\n",
      "<orchestrator version=\"1.0\">\n",
      "  <action name=\"create_file\">\n",
      "    <path>C:\\Users\\jerom\\OneDrive\\Bureau\\Demo LangChain\\note.txt</path>\n",
      "    <make_parents>true</make_parents>\n",
      "    <if_exists>overwrite</if_exists>\n",
      "    <content>Bravo ! Ceci est de l'IA agentique.</content>\n",
      "    <encoding>utf-8</encoding>\n",
      "    <correlation_id>123e4567-e89b-12d3-a456-426614174000</correlation_id>\n",
      "    <notes>Création du fichier avec contenu spécifié</notes>\n",
      "  </action>\n",
      "</orchestrator>\n",
      "\n",
      "Le fichier note.txt a été configuré pour être créé avec le contenu souhaité.\n",
      "✅ Fichier créé/écrit : C:\\Users\\jerom\\OneDrive\\Bureau\\Demo LangChain\\note.txt\n"
     ]
    }
   ],
   "source": [
    "# Cellule 6 — Test rapide (sans UI)\n",
    "# Exemple 1 : Créer un dossier\n",
    "out1 = run_agent_command(\"Crée un dossier 'Demo LangChain\\\\Essais' sur le Bureau.\")\n",
    "print(out1)\n",
    "print(execute_from_xml_response(out1))\n",
    "\n",
    "# Exemple 2 : Créer un fichier\n",
    "out2 = run_agent_command('Crée un fichier note.txt dans \"Demo LangChain\" contenant \"Bravo ! Ceci est de l\\'IA agentique.\"')\n",
    "print(out2)\n",
    "print(execute_from_xml_response(out2))\n"
   ]
  },
  {
   "cell_type": "code",
   "execution_count": 7,
   "id": "365ba2de-988a-4fde-914e-9dddd21d1c7f",
   "metadata": {
    "editable": true,
    "slideshow": {
     "slide_type": ""
    },
    "tags": []
   },
   "outputs": [
    {
     "name": "stdout",
     "output_type": "stream",
     "text": [
      "* Running on local URL:  http://127.0.0.1:7875\n",
      "* Running on public URL: https://5f9a571bf5f5ae8cd4.gradio.live\n",
      "\n",
      "This share link expires in 1 week. For free permanent hosting and GPU upgrades, run `gradio deploy` from the terminal in the working directory to deploy to Hugging Face Spaces (https://huggingface.co/spaces)\n"
     ]
    },
    {
     "data": {
      "text/html": [
       "<div><iframe src=\"https://5f9a571bf5f5ae8cd4.gradio.live\" width=\"100%\" height=\"500\" allow=\"autoplay; camera; microphone; clipboard-read; clipboard-write;\" frameborder=\"0\" allowfullscreen></iframe></div>"
      ],
      "text/plain": [
       "<IPython.core.display.HTML object>"
      ]
     },
     "metadata": {},
     "output_type": "display_data"
    },
    {
     "data": {
      "text/plain": []
     },
     "execution_count": 7,
     "metadata": {},
     "output_type": "execute_result"
    }
   ],
   "source": [
    "# Interface Gradio minimale (avec LangChain)\n",
    "import gradio as gr\n",
    "\n",
    "def gradio_handler(user_input: str):\n",
    "    # 1) Appel LLM (LangChain)\n",
    "    assistant_text = run_agent_command(user_input)\n",
    "    # 2) Exécution locale\n",
    "    action_result = execute_from_xml_response(assistant_text)\n",
    "    return assistant_text, action_result\n",
    "\n",
    "with gr.Blocks() as demo:\n",
    "    gr.Markdown(\"## 🖥️ Agent IA Orchestrateur (LangChain) — Dossiers & Fichiers\")\n",
    "    inp = gr.Textbox(label=\"Commande utilisateur\", placeholder='Ex: Crée un fichier Hello.txt contenant \"Bonjour !\"')\n",
    "    out_xml = gr.Textbox(label=\"Sortie Assistant (XML)\", lines=10)\n",
    "    out_exec = gr.Textbox(label=\"Résultat d’exécution\")\n",
    "    btn = gr.Button(\"Envoyer\")\n",
    "    btn.click(gradio_handler, inputs=inp, outputs=[out_xml, out_exec])\n",
    "\n",
    "demo.launch(share=True)  # -> tu peux remettre False si tu veux rester en local\n"
   ]
  },
  {
   "cell_type": "code",
   "execution_count": null,
   "id": "839e0ea7-f58d-4aec-a353-0f10cc4c4f02",
   "metadata": {},
   "outputs": [],
   "source": []
  }
 ],
 "metadata": {
  "kernelspec": {
   "display_name": "Python 3 (ipykernel)",
   "language": "python",
   "name": "python3"
  },
  "language_info": {
   "codemirror_mode": {
    "name": "ipython",
    "version": 3
   },
   "file_extension": ".py",
   "mimetype": "text/x-python",
   "name": "python",
   "nbconvert_exporter": "python",
   "pygments_lexer": "ipython3",
   "version": "3.12.7"
  }
 },
 "nbformat": 4,
 "nbformat_minor": 5
}
